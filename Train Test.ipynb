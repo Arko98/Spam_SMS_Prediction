{
 "cells": [
  {
   "cell_type": "code",
   "execution_count": 1,
   "metadata": {},
   "outputs": [
    {
     "name": "stderr",
     "output_type": "stream",
     "text": [
      "/home/arko/anaconda3/lib/python3.6/site-packages/h5py/__init__.py:36: FutureWarning: Conversion of the second argument of issubdtype from `float` to `np.floating` is deprecated. In future, it will be treated as `np.float64 == np.dtype(float).type`.\n",
      "  from ._conv import register_converters as _register_converters\n",
      "Using TensorFlow backend.\n"
     ]
    }
   ],
   "source": [
    "import re\n",
    "import os\n",
    "import numpy as np\n",
    "import Preprocess as utils\n",
    "import keras\n",
    "from sklearn.model_selection import train_test_split\n",
    "from keras.models import Model, Sequential, Input\n",
    "from keras.layers import GlobalMaxPooling1D, Dropout, Dense, LSTM"
   ]
  },
  {
   "cell_type": "markdown",
   "metadata": {},
   "source": [
    "# Loading Data and Splitting into train and test set"
   ]
  },
  {
   "cell_type": "code",
   "execution_count": 2,
   "metadata": {},
   "outputs": [
    {
     "name": "stdout",
     "output_type": "stream",
     "text": [
      "\n",
      "Maximum Sentence Length in entire dataset = 191\n"
     ]
    }
   ],
   "source": [
    "data = utils.load('SMS_Spam_v2.csv')\n",
    "sms_data, len_sms = utils.make_word_container(data)\n",
    "print('\\nMaximum Sentence Length in entire dataset = {}'.format(len_sms))\n",
    "padded_container = utils.No_Word_padding(sms_data, len_sms)"
   ]
  },
  {
   "cell_type": "code",
   "execution_count": 3,
   "metadata": {},
   "outputs": [
    {
     "name": "stdout",
     "output_type": "stream",
     "text": [
      "Word2Vec Model details = Word2Vec(vocab=9539, size=100, alpha=0.025)\n"
     ]
    }
   ],
   "source": [
    "#Gensim's Word2Vec\n",
    "vector_size = 100\n",
    "word2vec,_ = utils.Word2Vec(padded_container, vector_size, 1)"
   ]
  },
  {
   "cell_type": "code",
   "execution_count": 4,
   "metadata": {},
   "outputs": [
    {
     "name": "stdout",
     "output_type": "stream",
     "text": [
      "The SMS Embedded tensor shape = (11133, 191, 100)\n"
     ]
    }
   ],
   "source": [
    "sms_embedded = utils.Word_Embedding(word2vec, vector_size, padded_container)\n",
    "print('The SMS Embedded tensor shape = {}'.format(sms_embedded.shape))"
   ]
  },
  {
   "cell_type": "code",
   "execution_count": 5,
   "metadata": {},
   "outputs": [
    {
     "name": "stdout",
     "output_type": "stream",
     "text": [
      "Training Tweets embedded tensor shape = (10019, 191, 100)\n",
      "Training Sentiment labels shape = (10019, 1)\n",
      "Testing Tweets embedded tensor shape = (1114, 191, 100)\n",
      "Testing Sentiment labels tensor shape = (1114, 1)\n"
     ]
    }
   ],
   "source": [
    "labels = utils.create_labels(data)\n",
    "train_x, test_x, train_y, test_y = train_test_split(sms_embedded, labels, test_size = 0.10, random_state = 42)\n",
    "print('Training Tweets embedded tensor shape = {}'.format(train_x.shape))\n",
    "print('Training Sentiment labels shape = {}'.format(train_y.shape))\n",
    "print('Testing Tweets embedded tensor shape = {}'.format(test_x.shape))\n",
    "print('Testing Sentiment labels tensor shape = {}'.format(test_y.shape))"
   ]
  },
  {
   "cell_type": "markdown",
   "metadata": {},
   "source": [
    "# Architecture"
   ]
  },
  {
   "cell_type": "code",
   "execution_count": 6,
   "metadata": {},
   "outputs": [],
   "source": [
    "input_sms = Input(shape = (len_sms,vector_size,))\n",
    "\n",
    "def Network(input_data):\n",
    "    x = LSTM(units = 50, return_sequences = True, kernel_initializer = keras.initializers.lecun_normal(seed = None), unit_forget_bias = True)(input_data)\n",
    "    x = GlobalMaxPooling1D()(x)\n",
    "    z = Dense(units = 100, activation = 'relu')(x)\n",
    "    z = Dropout(0.2)(z)\n",
    "    z = Dense(units = 50, activation = 'relu')(x)\n",
    "    z = Dropout(0.2)(z)\n",
    "    z = Dense(units = 20, activation = 'relu')(z)\n",
    "    z = Dropout(0.2)(z)\n",
    "    z = Dense(units = 10, activation = 'relu')(z)\n",
    "    z = Dropout(0.2)(z)\n",
    "    output = Dense(units = 1, activation = 'sigmoid')(z)\n",
    "    model = Model(inputs = input_data, outputs = output)\n",
    "    model.summary()\n",
    "    return model \n",
    "\n",
    "def compile_and_train(model, num_epochs): \n",
    "    model.compile(optimizer= 'adam', loss= 'binary_crossentropy', metrics=['acc']) \n",
    "    history = model.fit([train_x], train_y, batch_size=1, epochs=num_epochs)\n",
    "    return history"
   ]
  },
  {
   "cell_type": "markdown",
   "metadata": {},
   "source": [
    "# Training"
   ]
  },
  {
   "cell_type": "code",
   "execution_count": 7,
   "metadata": {},
   "outputs": [
    {
     "name": "stdout",
     "output_type": "stream",
     "text": [
      "_________________________________________________________________\n",
      "Layer (type)                 Output Shape              Param #   \n",
      "=================================================================\n",
      "input_1 (InputLayer)         (None, 191, 100)          0         \n",
      "_________________________________________________________________\n",
      "lstm_1 (LSTM)                (None, 191, 50)           30200     \n",
      "_________________________________________________________________\n",
      "global_max_pooling1d_1 (Glob (None, 50)                0         \n",
      "_________________________________________________________________\n",
      "dense_2 (Dense)              (None, 50)                2550      \n",
      "_________________________________________________________________\n",
      "dropout_2 (Dropout)          (None, 50)                0         \n",
      "_________________________________________________________________\n",
      "dense_3 (Dense)              (None, 20)                1020      \n",
      "_________________________________________________________________\n",
      "dropout_3 (Dropout)          (None, 20)                0         \n",
      "_________________________________________________________________\n",
      "dense_4 (Dense)              (None, 10)                210       \n",
      "_________________________________________________________________\n",
      "dropout_4 (Dropout)          (None, 10)                0         \n",
      "_________________________________________________________________\n",
      "dense_5 (Dense)              (None, 1)                 11        \n",
      "=================================================================\n",
      "Total params: 33,991\n",
      "Trainable params: 33,991\n",
      "Non-trainable params: 0\n",
      "_________________________________________________________________\n",
      "Epoch 1/2\n",
      "10019/10019 [==============================] - 1666s 166ms/step - loss: 0.1725 - acc: 0.9474\n",
      "Epoch 2/2\n",
      "10019/10019 [==============================] - 1701s 170ms/step - loss: 0.1214 - acc: 0.9658\n"
     ]
    }
   ],
   "source": [
    "#Instantiation and Training\n",
    "model = Network(input_sms)\n",
    "history = compile_and_train(model, 2)"
   ]
  },
  {
   "cell_type": "markdown",
   "metadata": {},
   "source": [
    "# Testing on Unseen Test Data"
   ]
  },
  {
   "cell_type": "code",
   "execution_count": 9,
   "metadata": {},
   "outputs": [
    {
     "name": "stdout",
     "output_type": "stream",
     "text": [
      "1114/1114 [==============================] - 1s 1ms/step\n",
      "Test Loss = 0.0829325877096591\n",
      "Test Accuracy = 0.9775583482944344\n"
     ]
    }
   ],
   "source": [
    "loss,acc = model.evaluate(test_x,test_y)\n",
    "print('Test Loss = {}'.format(loss))\n",
    "print('Test Accuracy = {}'.format(acc))"
   ]
  }
 ],
 "metadata": {
  "kernelspec": {
   "display_name": "Python 3",
   "language": "python",
   "name": "python3"
  },
  "language_info": {
   "codemirror_mode": {
    "name": "ipython",
    "version": 3
   },
   "file_extension": ".py",
   "mimetype": "text/x-python",
   "name": "python",
   "nbconvert_exporter": "python",
   "pygments_lexer": "ipython3",
   "version": "3.6.8"
  }
 },
 "nbformat": 4,
 "nbformat_minor": 2
}
